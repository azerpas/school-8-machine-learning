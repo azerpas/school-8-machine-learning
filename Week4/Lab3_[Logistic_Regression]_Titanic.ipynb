{
  "cells": [
    {
      "cell_type": "markdown",
      "metadata": {
        "id": "UpG7Nd4v9Xca"
      },
      "source": [
        "# Predict survival on the Titanic\n",
        "In this Lab, we ask you to apply the tools of machine learning to predict which passengers survived the tragedy"
      ]
    },
    {
      "cell_type": "markdown",
      "metadata": {
        "id": "PzbOp32s9Xcf"
      },
      "source": [
        "### Dataset\n",
        "The dataset contains 891 observations of 12 variables:\n",
        "* **PassengerId**: Unique ID for each passenger\n",
        "* **Survived**: Survival (0 = No; 1 = Yes)\n",
        "* **Pclass**: Passenger Class (1 = 1st; 2 = 2nd; 3 = 3rd)\n",
        "* **Name**: Name\n",
        "* **Sex**: Sex\n",
        "* **Age**: Age\n",
        "* **Sibsp**: Number of Siblings/Spouses Aboard\n",
        "* **Parch**: Number of Parents/Children Aboard\n",
        "* **Ticket**: Ticket Number\n",
        "* **Fare**: Passenger Fare\n",
        "* **Cabin**: Cabin\n",
        "* **Embarked** Port of Embarkation (C = Cherbourg; Q = Queenstown; S = Southampton)"
      ]
    },
    {
      "cell_type": "code",
      "execution_count": 2,
      "metadata": {},
      "outputs": [],
      "source": [
        "import requests"
      ]
    },
    {
      "cell_type": "code",
      "execution_count": 18,
      "metadata": {
        "id": "O5Ma0kpBh4IA"
      },
      "outputs": [],
      "source": [
        "import os\n",
        "#from google.colab import drive\n",
        "#drive.mount('/content/drive', force_remount=False)"
      ]
    },
    {
      "cell_type": "code",
      "execution_count": 50,
      "metadata": {
        "collapsed": true,
        "id": "p4ZCTpyI9Xch"
      },
      "outputs": [],
      "source": [
        "# imports\n",
        "import warnings\n",
        "warnings.filterwarnings('ignore')\n",
        "import pandas as pd\n",
        "import numpy as np"
      ]
    },
    {
      "cell_type": "code",
      "execution_count": 20,
      "metadata": {
        "collapsed": true,
        "id": "3Kn5vXEB9Xcj"
      },
      "outputs": [
        {
          "data": {
            "text/html": [
              "<div>\n",
              "<style scoped>\n",
              "    .dataframe tbody tr th:only-of-type {\n",
              "        vertical-align: middle;\n",
              "    }\n",
              "\n",
              "    .dataframe tbody tr th {\n",
              "        vertical-align: top;\n",
              "    }\n",
              "\n",
              "    .dataframe thead th {\n",
              "        text-align: right;\n",
              "    }\n",
              "</style>\n",
              "<table border=\"1\" class=\"dataframe\">\n",
              "  <thead>\n",
              "    <tr style=\"text-align: right;\">\n",
              "      <th></th>\n",
              "      <th>PassengerId</th>\n",
              "      <th>Survived</th>\n",
              "      <th>Pclass</th>\n",
              "      <th>Name</th>\n",
              "      <th>Sex</th>\n",
              "      <th>Age</th>\n",
              "      <th>SibSp</th>\n",
              "      <th>Parch</th>\n",
              "      <th>Ticket</th>\n",
              "      <th>Fare</th>\n",
              "      <th>Cabin</th>\n",
              "      <th>Embarked</th>\n",
              "    </tr>\n",
              "  </thead>\n",
              "  <tbody>\n",
              "    <tr>\n",
              "      <th>0</th>\n",
              "      <td>1</td>\n",
              "      <td>0</td>\n",
              "      <td>3</td>\n",
              "      <td>Braund, Mr. Owen Harris</td>\n",
              "      <td>male</td>\n",
              "      <td>22.0</td>\n",
              "      <td>1</td>\n",
              "      <td>0</td>\n",
              "      <td>A/5 21171</td>\n",
              "      <td>7.2500</td>\n",
              "      <td>NaN</td>\n",
              "      <td>S</td>\n",
              "    </tr>\n",
              "    <tr>\n",
              "      <th>1</th>\n",
              "      <td>2</td>\n",
              "      <td>1</td>\n",
              "      <td>1</td>\n",
              "      <td>Cumings, Mrs. John Bradley (Florence Briggs Th...</td>\n",
              "      <td>female</td>\n",
              "      <td>38.0</td>\n",
              "      <td>1</td>\n",
              "      <td>0</td>\n",
              "      <td>PC 17599</td>\n",
              "      <td>71.2833</td>\n",
              "      <td>C85</td>\n",
              "      <td>C</td>\n",
              "    </tr>\n",
              "    <tr>\n",
              "      <th>2</th>\n",
              "      <td>3</td>\n",
              "      <td>1</td>\n",
              "      <td>3</td>\n",
              "      <td>Heikkinen, Miss. Laina</td>\n",
              "      <td>female</td>\n",
              "      <td>26.0</td>\n",
              "      <td>0</td>\n",
              "      <td>0</td>\n",
              "      <td>STON/O2. 3101282</td>\n",
              "      <td>7.9250</td>\n",
              "      <td>NaN</td>\n",
              "      <td>S</td>\n",
              "    </tr>\n",
              "    <tr>\n",
              "      <th>3</th>\n",
              "      <td>4</td>\n",
              "      <td>1</td>\n",
              "      <td>1</td>\n",
              "      <td>Futrelle, Mrs. Jacques Heath (Lily May Peel)</td>\n",
              "      <td>female</td>\n",
              "      <td>35.0</td>\n",
              "      <td>1</td>\n",
              "      <td>0</td>\n",
              "      <td>113803</td>\n",
              "      <td>53.1000</td>\n",
              "      <td>C123</td>\n",
              "      <td>S</td>\n",
              "    </tr>\n",
              "    <tr>\n",
              "      <th>4</th>\n",
              "      <td>5</td>\n",
              "      <td>0</td>\n",
              "      <td>3</td>\n",
              "      <td>Allen, Mr. William Henry</td>\n",
              "      <td>male</td>\n",
              "      <td>35.0</td>\n",
              "      <td>0</td>\n",
              "      <td>0</td>\n",
              "      <td>373450</td>\n",
              "      <td>8.0500</td>\n",
              "      <td>NaN</td>\n",
              "      <td>S</td>\n",
              "    </tr>\n",
              "  </tbody>\n",
              "</table>\n",
              "</div>"
            ],
            "text/plain": [
              "   PassengerId  Survived  Pclass  \\\n",
              "0            1         0       3   \n",
              "1            2         1       1   \n",
              "2            3         1       3   \n",
              "3            4         1       1   \n",
              "4            5         0       3   \n",
              "\n",
              "                                                Name     Sex   Age  SibSp  \\\n",
              "0                            Braund, Mr. Owen Harris    male  22.0      1   \n",
              "1  Cumings, Mrs. John Bradley (Florence Briggs Th...  female  38.0      1   \n",
              "2                             Heikkinen, Miss. Laina  female  26.0      0   \n",
              "3       Futrelle, Mrs. Jacques Heath (Lily May Peel)  female  35.0      1   \n",
              "4                           Allen, Mr. William Henry    male  35.0      0   \n",
              "\n",
              "   Parch            Ticket     Fare Cabin Embarked  \n",
              "0      0         A/5 21171   7.2500   NaN        S  \n",
              "1      0          PC 17599  71.2833   C85        C  \n",
              "2      0  STON/O2. 3101282   7.9250   NaN        S  \n",
              "3      0            113803  53.1000  C123        S  \n",
              "4      0            373450   8.0500   NaN        S  "
            ]
          },
          "execution_count": 20,
          "metadata": {},
          "output_type": "execute_result"
        }
      ],
      "source": [
        "titanic: pd.DataFrame = pd.read_csv(\"titanic.csv\")\n",
        "titanic.head()"
      ]
    },
    {
      "cell_type": "code",
      "execution_count": 21,
      "metadata": {
        "collapsed": true,
        "id": "5R3HTRZ29Xck"
      },
      "outputs": [
        {
          "name": "stdout",
          "output_type": "stream",
          "text": [
            "(891, 12)\n"
          ]
        }
      ],
      "source": [
        "# print some info about the dataframe\n",
        "print(titanic.shape)"
      ]
    },
    {
      "cell_type": "markdown",
      "metadata": {
        "id": "eaeMDHTJ9Xck"
      },
      "source": [
        "Looks like there are some Nan values, let's see how many for each column"
      ]
    },
    {
      "cell_type": "code",
      "execution_count": 22,
      "metadata": {
        "collapsed": true,
        "id": "5AI_2olL9Xck"
      },
      "outputs": [
        {
          "data": {
            "text/plain": [
              "PassengerId      0\n",
              "Survived         0\n",
              "Pclass           0\n",
              "Name             0\n",
              "Sex              0\n",
              "Age            177\n",
              "SibSp            0\n",
              "Parch            0\n",
              "Ticket           0\n",
              "Fare             0\n",
              "Cabin          687\n",
              "Embarked         2\n",
              "dtype: int64"
            ]
          },
          "execution_count": 22,
          "metadata": {},
          "output_type": "execute_result"
        }
      ],
      "source": [
        "titanic.isnull().sum()"
      ]
    },
    {
      "cell_type": "markdown",
      "metadata": {
        "id": "rsjzeWQA9Xcl"
      },
      "source": [
        "**Cabin** contains a lot of Nan values, we'll drop this column <br>\n",
        "We'll replace the Nan values in **Age** with the age's median, and the ones in **Embarked** with **'S'**, which is the most frequent one in this column"
      ]
    },
    {
      "cell_type": "code",
      "execution_count": 23,
      "metadata": {
        "collapsed": true,
        "id": "fg6Yzqkc9Xcm"
      },
      "outputs": [
        {
          "data": {
            "text/plain": [
              "PassengerId    0\n",
              "Survived       0\n",
              "Pclass         0\n",
              "Name           0\n",
              "Sex            0\n",
              "Age            0\n",
              "SibSp          0\n",
              "Parch          0\n",
              "Ticket         0\n",
              "Fare           0\n",
              "Embarked       0\n",
              "dtype: int64"
            ]
          },
          "execution_count": 23,
          "metadata": {},
          "output_type": "execute_result"
        }
      ],
      "source": [
        "titanic.drop(columns=[\"Cabin\"], inplace=True)\n",
        "# check the fillna documentation: http://pandas.pydata.org/pandas-docs/stable/generated/pandas.DataFrame.fillna.html\n",
        "titanic[\"Age\"]= titanic[\"Age\"].fillna(titanic[\"Age\"].median())\n",
        "titanic[\"Embarked\"].fillna(\"S\", inplace=True)\n",
        "titanic.isnull().sum()"
      ]
    },
    {
      "cell_type": "markdown",
      "metadata": {
        "id": "8lO-sbAc9Xcn"
      },
      "source": [
        "## Visualization"
      ]
    },
    {
      "cell_type": "code",
      "execution_count": 24,
      "metadata": {
        "collapsed": true,
        "id": "pPZdkF3K9Xcn"
      },
      "outputs": [
        {
          "name": "stdout",
          "output_type": "stream",
          "text": [
            "survival rate = 0.3838383838383838\n"
          ]
        },
        {
          "data": {
            "text/plain": [
              "<AxesSubplot:title={'center':\"Label's Balance\"}, xlabel='Survived'>"
            ]
          },
          "execution_count": 24,
          "metadata": {},
          "output_type": "execute_result"
        },
        {
          "data": {
            "image/png": "[encoded data removed]",
            "text/plain": [
              "<Figure size 432x288 with 1 Axes>"
            ]
          },
          "metadata": {
            "needs_background": "light"
          },
          "output_type": "display_data"
        }
      ],
      "source": [
        "%matplotlib inline\n",
        "import matplotlib.pyplot as plt\n",
        "print ('survival rate =', titanic.Survived.mean())\n",
        "(titanic.groupby('Survived').size()/titanic.shape[0]).plot(kind=\"bar\",title=\"Label's Balance\")\n"
      ]
    },
    {
      "cell_type": "code",
      "execution_count": 25,
      "metadata": {
        "collapsed": true,
        "id": "mVjSojhJ9Xco"
      },
      "outputs": [],
      "source": [
        "# make a function to plot survival against passenger attribute\n",
        "def survival_rate(column,t):\n",
        "    df=pd.DataFrame()\n",
        "    df['total']=titanic.groupby(column).size()\n",
        "    df['survived'] = titanic.groupby(column).sum()['Survived']\n",
        "    df['percentage'] = round(df['survived']/df['total']*100,2)\n",
        "    print(df)\n",
        "\n",
        "    df['survived'].plot(kind=t)\n",
        "    df['total'].plot(kind=t,alpha=0.5,title=\"Survivors per \"+str(column))\n",
        "    plt.show()"
      ]
    },
    {
      "cell_type": "code",
      "execution_count": 26,
      "metadata": {
        "collapsed": true,
        "id": "e9Ds55q79Xco"
      },
      "outputs": [
        {
          "name": "stdout",
          "output_type": "stream",
          "text": [
            "        total  survived  percentage\n",
            "Sex                                \n",
            "female    314       233       74.20\n",
            "male      577       109       18.89\n"
          ]
        },
        {
          "data": {
            "image/png": "[encoded data removed]",
            "text/plain": [
              "<Figure size 432x288 with 1 Axes>"
            ]
          },
          "metadata": {
            "needs_background": "light"
          },
          "output_type": "display_data"
        }
      ],
      "source": [
        "# Draw survival per Sex\n",
        "survival_rate(\"Sex\",\"barh\")"
      ]
    },
    {
      "cell_type": "code",
      "execution_count": 27,
      "metadata": {
        "collapsed": true,
        "id": "ESv52uFP9Xcp"
      },
      "outputs": [
        {
          "name": "stdout",
          "output_type": "stream",
          "text": [
            "        total  survived  percentage\n",
            "Pclass                             \n",
            "1         216       136       62.96\n",
            "2         184        87       47.28\n",
            "3         491       119       24.24\n"
          ]
        },
        {
          "data": {
            "image/png": "[encoded data removed]",
            "text/plain": [
              "<Figure size 432x288 with 1 Axes>"
            ]
          },
          "metadata": {
            "needs_background": "light"
          },
          "output_type": "display_data"
        }
      ],
      "source": [
        "# Draw survival per Class\n",
        "survival_rate(\"Pclass\",\"barh\")"
      ]
    },
    {
      "cell_type": "code",
      "execution_count": 28,
      "metadata": {
        "collapsed": true,
        "id": "YrTGe5Yw9Xcp"
      },
      "outputs": [
        {
          "name": "stdout",
          "output_type": "stream",
          "text": [
            "          total  survived  percentage\n",
            "Embarked                             \n",
            "C           168        93       55.36\n",
            "Q            77        30       38.96\n",
            "S           646       219       33.90\n"
          ]
        },
        {
          "data": {
            "image/png": "[encoded data removed]",
            "text/plain": [
              "<Figure size 432x288 with 1 Axes>"
            ]
          },
          "metadata": {
            "needs_background": "light"
          },
          "output_type": "display_data"
        }
      ],
      "source": [
        "# Graph survived per port of embarkation\n",
        "survival_rate(\"Embarked\",\"bar\")"
      ]
    },
    {
      "cell_type": "code",
      "execution_count": 35,
      "metadata": {
        "collapsed": true,
        "id": "HMoRYtzq9Xcp"
      },
      "outputs": [
        {
          "name": "stdout",
          "output_type": "stream",
          "text": [
            "       total  survived  percentage\n",
            "Parch                             \n",
            "0        678       233       34.37\n",
            "1        118        65       55.08\n",
            "2         80        40       50.00\n",
            "3          5         3       60.00\n",
            "4          4         0        0.00\n",
            "5          5         1       20.00\n",
            "6          1         0        0.00\n"
          ]
        },
        {
          "data": {
            "image/png": "[encoded data removed]",
            "text/plain": [
              "<Figure size 432x288 with 1 Axes>"
            ]
          },
          "metadata": {
            "needs_background": "light"
          },
          "output_type": "display_data"
        }
      ],
      "source": [
        "# Draw survived per Number of Parents/Children Aboard (Parch)\n",
        "survival_rate(\"Parch\",\"bar\")"
      ]
    },
    {
      "cell_type": "code",
      "execution_count": 36,
      "metadata": {
        "collapsed": true,
        "id": "FN4wuUhv9Xcp"
      },
      "outputs": [
        {
          "name": "stdout",
          "output_type": "stream",
          "text": [
            "       total  survived  percentage\n",
            "SibSp                             \n",
            "0        608       210       34.54\n",
            "1        209       112       53.59\n",
            "2         28        13       46.43\n",
            "3         16         4       25.00\n",
            "4         18         3       16.67\n",
            "5          5         0        0.00\n",
            "8          7         0        0.00\n"
          ]
        },
        {
          "data": {
            "image/png": "[encoded data removed]",
            "text/plain": [
              "<Figure size 432x288 with 1 Axes>"
            ]
          },
          "metadata": {
            "needs_background": "light"
          },
          "output_type": "display_data"
        }
      ],
      "source": [
        "# Draw survived per Number of Siblings/Spouses Aboard (SibSp)\n",
        "survival_rate(\"SibSp\",\"barh\")"
      ]
    },
    {
      "cell_type": "markdown",
      "metadata": {
        "id": "-fEc4HUu9Xcq"
      },
      "source": [
        "## Model training"
      ]
    },
    {
      "cell_type": "markdown",
      "metadata": {
        "id": "SpAeGxFl9Xcq"
      },
      "source": [
        "Some of the columns don't have predictive power, so let's specify which ones are included for prediction"
      ]
    },
    {
      "cell_type": "code",
      "execution_count": 37,
      "metadata": {
        "collapsed": true,
        "id": "ZFt_bUDH9Xcq"
      },
      "outputs": [],
      "source": [
        "predictors = [\"Pclass\", \"Sex\", \"Age\", 'SibSp' ,'Parch', \"Fare\", \"Embarked\"]  "
      ]
    },
    {
      "cell_type": "markdown",
      "metadata": {
        "id": "4QReR82E9Xcq"
      },
      "source": [
        "We need now to convert text columns in **predictors** to numerical ones"
      ]
    },
    {
      "cell_type": "code",
      "execution_count": 38,
      "metadata": {
        "collapsed": true,
        "id": "XxK-7mYN9Xcr"
      },
      "outputs": [
        {
          "data": {
            "text/html": [
              "<div>\n",
              "<style scoped>\n",
              "    .dataframe tbody tr th:only-of-type {\n",
              "        vertical-align: middle;\n",
              "    }\n",
              "\n",
              "    .dataframe tbody tr th {\n",
              "        vertical-align: top;\n",
              "    }\n",
              "\n",
              "    .dataframe thead th {\n",
              "        text-align: right;\n",
              "    }\n",
              "</style>\n",
              "<table border=\"1\" class=\"dataframe\">\n",
              "  <thead>\n",
              "    <tr style=\"text-align: right;\">\n",
              "      <th></th>\n",
              "      <th>PassengerId</th>\n",
              "      <th>Survived</th>\n",
              "      <th>Pclass</th>\n",
              "      <th>Name</th>\n",
              "      <th>Sex</th>\n",
              "      <th>Age</th>\n",
              "      <th>SibSp</th>\n",
              "      <th>Parch</th>\n",
              "      <th>Ticket</th>\n",
              "      <th>Fare</th>\n",
              "      <th>Embarked</th>\n",
              "    </tr>\n",
              "  </thead>\n",
              "  <tbody>\n",
              "    <tr>\n",
              "      <th>0</th>\n",
              "      <td>1</td>\n",
              "      <td>0</td>\n",
              "      <td>3</td>\n",
              "      <td>Braund, Mr. Owen Harris</td>\n",
              "      <td>1</td>\n",
              "      <td>22.0</td>\n",
              "      <td>1</td>\n",
              "      <td>0</td>\n",
              "      <td>A/5 21171</td>\n",
              "      <td>7.2500</td>\n",
              "      <td>2</td>\n",
              "    </tr>\n",
              "    <tr>\n",
              "      <th>1</th>\n",
              "      <td>2</td>\n",
              "      <td>1</td>\n",
              "      <td>1</td>\n",
              "      <td>Cumings, Mrs. John Bradley (Florence Briggs Th...</td>\n",
              "      <td>0</td>\n",
              "      <td>38.0</td>\n",
              "      <td>1</td>\n",
              "      <td>0</td>\n",
              "      <td>PC 17599</td>\n",
              "      <td>71.2833</td>\n",
              "      <td>0</td>\n",
              "    </tr>\n",
              "    <tr>\n",
              "      <th>2</th>\n",
              "      <td>3</td>\n",
              "      <td>1</td>\n",
              "      <td>3</td>\n",
              "      <td>Heikkinen, Miss. Laina</td>\n",
              "      <td>0</td>\n",
              "      <td>26.0</td>\n",
              "      <td>0</td>\n",
              "      <td>0</td>\n",
              "      <td>STON/O2. 3101282</td>\n",
              "      <td>7.9250</td>\n",
              "      <td>2</td>\n",
              "    </tr>\n",
              "    <tr>\n",
              "      <th>3</th>\n",
              "      <td>4</td>\n",
              "      <td>1</td>\n",
              "      <td>1</td>\n",
              "      <td>Futrelle, Mrs. Jacques Heath (Lily May Peel)</td>\n",
              "      <td>0</td>\n",
              "      <td>35.0</td>\n",
              "      <td>1</td>\n",
              "      <td>0</td>\n",
              "      <td>113803</td>\n",
              "      <td>53.1000</td>\n",
              "      <td>2</td>\n",
              "    </tr>\n",
              "    <tr>\n",
              "      <th>4</th>\n",
              "      <td>5</td>\n",
              "      <td>0</td>\n",
              "      <td>3</td>\n",
              "      <td>Allen, Mr. William Henry</td>\n",
              "      <td>1</td>\n",
              "      <td>35.0</td>\n",
              "      <td>0</td>\n",
              "      <td>0</td>\n",
              "      <td>373450</td>\n",
              "      <td>8.0500</td>\n",
              "      <td>2</td>\n",
              "    </tr>\n",
              "  </tbody>\n",
              "</table>\n",
              "</div>"
            ],
            "text/plain": [
              "   PassengerId  Survived  Pclass  \\\n",
              "0            1         0       3   \n",
              "1            2         1       1   \n",
              "2            3         1       3   \n",
              "3            4         1       1   \n",
              "4            5         0       3   \n",
              "\n",
              "                                                Name  Sex   Age  SibSp  Parch  \\\n",
              "0                            Braund, Mr. Owen Harris    1  22.0      1      0   \n",
              "1  Cumings, Mrs. John Bradley (Florence Briggs Th...    0  38.0      1      0   \n",
              "2                             Heikkinen, Miss. Laina    0  26.0      0      0   \n",
              "3       Futrelle, Mrs. Jacques Heath (Lily May Peel)    0  35.0      1      0   \n",
              "4                           Allen, Mr. William Henry    1  35.0      0      0   \n",
              "\n",
              "             Ticket     Fare  Embarked  \n",
              "0         A/5 21171   7.2500         2  \n",
              "1          PC 17599  71.2833         0  \n",
              "2  STON/O2. 3101282   7.9250         2  \n",
              "3            113803  53.1000         2  \n",
              "4            373450   8.0500         2  "
            ]
          },
          "execution_count": 38,
          "metadata": {},
          "output_type": "execute_result"
        }
      ],
      "source": [
        "for col in predictors: # Loop through all columns in predictors\n",
        "    if titanic[col].dtype == 'object':  # check if column's type is object (text)\n",
        "        titanic[col] = pd.Categorical(titanic[col]).codes  # convert text to numerical\n",
        "\n",
        "titanic.head()"
      ]
    },
    {
      "cell_type": "code",
      "execution_count": 44,
      "metadata": {
        "collapsed": true,
        "id": "7CvWSj-k9Xcr"
      },
      "outputs": [
        {
          "name": "stdout",
          "output_type": "stream",
          "text": [
            "train shape (623, 8) (623,)\n",
            "test shape (268, 8) (268,)\n"
          ]
        }
      ],
      "source": [
        "# Split the data into a training set and a testing set. Set: test_size=0.3, random_state=1\n",
        "from sklearn.model_selection import train_test_split\n",
        "y = titanic[\"Survived\"]\n",
        "x = titanic.drop(columns=[\"Survived\", \"Name\", \"Ticket\"]) # Deleting Survived but also the columns that are strings\n",
        "X_train, X_test, y_train, y_test = train_test_split(x, y, test_size=0.3, random_state=1)\n",
        "\n",
        "print (\"train shape\", X_train.shape, y_train.shape)\n",
        "print (\"test shape\", X_test.shape, y_test.shape)"
      ]
    },
    {
      "cell_type": "code",
      "execution_count": 45,
      "metadata": {
        "collapsed": true,
        "id": "KBjnYcSk9Xcr"
      },
      "outputs": [
        {
          "name": "stdout",
          "output_type": "stream",
          "text": [
            "train accuracy = 0.8057784911717496\n",
            "test accuracy = 0.753731343283582\n"
          ]
        }
      ],
      "source": [
        "# import LogisticRegression from: http://scikit-learn.org/stable/modules/generated/sklearn.linear_model.LogisticRegression.html\n",
        "from sklearn.linear_model import LogisticRegression\n",
        "clf = LogisticRegression(random_state=1)\n",
        "clf.fit(X_train, y_train)\n",
        "train_score = clf.score(X_train, y_train)\n",
        "test_score = clf.score(X_test, y_test)\n",
        "print ('train accuracy =', train_score)\n",
        "print ('test accuracy =', test_score)"
      ]
    },
    {
      "cell_type": "markdown",
      "metadata": {
        "id": "3h_lLo9L9Xcs"
      },
      "source": [
        "Let's print the model's parameters"
      ]
    },
    {
      "cell_type": "code",
      "execution_count": 46,
      "metadata": {
        "collapsed": true,
        "id": "g8O0eXo-9Xcs"
      },
      "outputs": [
        {
          "name": "stdout",
          "output_type": "stream",
          "text": [
            "       Feature  Coefficient Estimate\n",
            "0  PassengerId              0.001332\n",
            "1       Pclass             -0.329812\n",
            "2          Sex             -2.655684\n",
            "3          Age             -0.007307\n",
            "4        SibSp             -0.202747\n",
            "5        Parch             -0.126218\n",
            "6         Fare              0.009642\n",
            "7     Embarked              0.023345\n",
            "8    Intercept              1.126964\n"
          ]
        }
      ],
      "source": [
        "coeff = pd.DataFrame()\n",
        "coeff['Feature'] = X_train.columns\n",
        "coeff['Coefficient Estimate'] = pd.Series(clf.coef_[0])\n",
        "coeff.loc[len(coeff)]=['Intercept',clf.intercept_[0]]\n",
        "print (coeff)"
      ]
    },
    {
      "cell_type": "markdown",
      "metadata": {
        "id": "qqGOuOla9Xcs"
      },
      "source": [
        "We now need to predict class labels for the test set. We will also generate the class probabilities"
      ]
    },
    {
      "cell_type": "code",
      "execution_count": 47,
      "metadata": {
        "collapsed": true,
        "id": "XP9i5RY89Xcs"
      },
      "outputs": [
        {
          "name": "stdout",
          "output_type": "stream",
          "text": [
            "[1 0 1 1 1 0 0 1 0 1 0 1 0 0 1 0 0 0 0 1 0 0 1 0 1 0 1 1 0 1 1 0 1 1 0 0 0\n",
            " 0 0 0 1 0 1 0 0 0 0 0 1 0 0 1 0 0 0 1 0 0 0 1 0 0 0 0 0 1 0 0 1 0 0 0 0 0\n",
            " 1 0 1 0 0 1 0 0 0 0 1 0 0 0 1 1 0 0 0 1 0 0 0 1 0 0 0 0 0 1 1 0 0 0 0 0 0\n",
            " 0 0 0 0 0 0 0 1 1 1 0 0 0 1 1 1 1 0 0 0 0 1 0 0 1 1 0 0 1 1 0 1 1 0 1 0 0\n",
            " 1 0 1 0 0 1 0 0 0 0 1 0 0 0 1 0 0 1 1 0 0 0 1 0 1 0 1 0 0 0 1 0 1 1 0 0 1\n",
            " 0 0 1 0 1 0 0 1 1 1 1 0 1 0 0 0 1 0 0 0 1 1 0 0 0 1 0 0 0 0 0 0 1 1 0 0 0\n",
            " 0 0 0 0 1 0 1 0 0 0 0 0 0 1 1 1 0 0 0 0 0 0 0 0 1 1 1 1 0 0 0 0 1 1 0 1 0\n",
            " 1 1 0 1 1 0 0 0 0]\n"
          ]
        }
      ],
      "source": [
        "# predict class labels for the test set\n",
        "y_pred = clf.predict(X_test)\n",
        "print(y_pred)"
      ]
    },
    {
      "cell_type": "code",
      "execution_count": 52,
      "metadata": {
        "collapsed": true,
        "id": "YcyX1vod9Xcs"
      },
      "outputs": [
        {
          "name": "stdout",
          "output_type": "stream",
          "text": [
            "[[0.94068391 0.05931609]\n",
            " [0.26762672 0.73237328]\n",
            " [0.48134614 0.51865386]\n",
            " ...\n",
            " [0.28198615 0.71801385]\n",
            " [0.63964824 0.36035176]\n",
            " [0.81262363 0.18737637]]\n"
          ]
        }
      ],
      "source": [
        "# generate class probabilities : http://scikit-learn.org/stable/modules/generated/sklearn.linear_model.LogisticRegression.html\n",
        "y_probs = clf.predict_proba(x)\n",
        "print (y_probs)"
      ]
    },
    {
      "cell_type": "markdown",
      "metadata": {
        "id": "LZcfyRhp9Xcs"
      },
      "source": [
        "As you can see, the classifier outputs two probabilities for each row. It's predicting a 1 (Survived) any time the probability in the second column is greater than 0.5. Let's visualize it all together."
      ]
    },
    {
      "cell_type": "code",
      "execution_count": 53,
      "metadata": {
        "collapsed": true,
        "id": "NpLKax-J9Xcs"
      },
      "outputs": [
        {
          "ename": "ValueError",
          "evalue": "arrays must all be same length",
          "output_type": "error",
          "traceback": [
            "\u001b[0;31m---------------------------------------------------------------------------\u001b[0m",
            "\u001b[0;31mValueError\u001b[0m                                Traceback (most recent call last)",
            "\u001b[1;32m/Users/azerpas/school/8th/machine-learning/Week4/Lab3_[Logistic_Regression]_Titanic.ipynb Cell 33'\u001b[0m in \u001b[0;36m<module>\u001b[0;34m\u001b[0m\n\u001b[0;32m----> <a href='vscode-notebook-cell:/Users/azerpas/school/8th/machine-learning/Week4/Lab3_%5BLogistic_Regression%5D_Titanic.ipynb#ch0000032?line=0'>1</a>\u001b[0m pred \u001b[39m=\u001b[39m pd\u001b[39m.\u001b[39;49mDataFrame({        \n\u001b[1;32m      <a href='vscode-notebook-cell:/Users/azerpas/school/8th/machine-learning/Week4/Lab3_%5BLogistic_Regression%5D_Titanic.ipynb#ch0000032?line=1'>2</a>\u001b[0m         \u001b[39m\"\u001b[39;49m\u001b[39mSurvived_original\u001b[39;49m\u001b[39m\"\u001b[39;49m: y_test,\n\u001b[1;32m      <a href='vscode-notebook-cell:/Users/azerpas/school/8th/machine-learning/Week4/Lab3_%5BLogistic_Regression%5D_Titanic.ipynb#ch0000032?line=2'>3</a>\u001b[0m         \u001b[39m\"\u001b[39;49m\u001b[39mSurvived_predicted\u001b[39;49m\u001b[39m\"\u001b[39;49m: y_pred,\n\u001b[1;32m      <a href='vscode-notebook-cell:/Users/azerpas/school/8th/machine-learning/Week4/Lab3_%5BLogistic_Regression%5D_Titanic.ipynb#ch0000032?line=3'>4</a>\u001b[0m         \u001b[39m\"\u001b[39;49m\u001b[39mSurvived_proba\u001b[39;49m\u001b[39m\"\u001b[39;49m: np\u001b[39m.\u001b[39;49mtranspose(y_probs)[\u001b[39m1\u001b[39;49m]      \n\u001b[1;32m      <a href='vscode-notebook-cell:/Users/azerpas/school/8th/machine-learning/Week4/Lab3_%5BLogistic_Regression%5D_Titanic.ipynb#ch0000032?line=4'>5</a>\u001b[0m         })\n\u001b[1;32m      <a href='vscode-notebook-cell:/Users/azerpas/school/8th/machine-learning/Week4/Lab3_%5BLogistic_Regression%5D_Titanic.ipynb#ch0000032?line=5'>6</a>\u001b[0m pred[\u001b[39m\"\u001b[39m\u001b[39mComparison\u001b[39m\u001b[39m\"\u001b[39m]\u001b[39m=\u001b[39m pred\u001b[39m.\u001b[39mSurvived_original \u001b[39m==\u001b[39mpred\u001b[39m.\u001b[39mSurvived_predicted\n\u001b[1;32m      <a href='vscode-notebook-cell:/Users/azerpas/school/8th/machine-learning/Week4/Lab3_%5BLogistic_Regression%5D_Titanic.ipynb#ch0000032?line=6'>7</a>\u001b[0m pred\u001b[39m.\u001b[39mhead()\n",
            "File \u001b[0;32m/usr/local/lib/python3.9/site-packages/pandas/core/frame.py:529\u001b[0m, in \u001b[0;36mDataFrame.__init__\u001b[0;34m(self, data, index, columns, dtype, copy)\u001b[0m\n\u001b[1;32m    <a href='file:///usr/local/lib/python3.9/site-packages/pandas/core/frame.py?line=523'>524</a>\u001b[0m     mgr \u001b[39m=\u001b[39m \u001b[39mself\u001b[39m\u001b[39m.\u001b[39m_init_mgr(\n\u001b[1;32m    <a href='file:///usr/local/lib/python3.9/site-packages/pandas/core/frame.py?line=524'>525</a>\u001b[0m         data, axes\u001b[39m=\u001b[39m{\u001b[39m\"\u001b[39m\u001b[39mindex\u001b[39m\u001b[39m\"\u001b[39m: index, \u001b[39m\"\u001b[39m\u001b[39mcolumns\u001b[39m\u001b[39m\"\u001b[39m: columns}, dtype\u001b[39m=\u001b[39mdtype, copy\u001b[39m=\u001b[39mcopy\n\u001b[1;32m    <a href='file:///usr/local/lib/python3.9/site-packages/pandas/core/frame.py?line=525'>526</a>\u001b[0m     )\n\u001b[1;32m    <a href='file:///usr/local/lib/python3.9/site-packages/pandas/core/frame.py?line=527'>528</a>\u001b[0m \u001b[39melif\u001b[39;00m \u001b[39misinstance\u001b[39m(data, \u001b[39mdict\u001b[39m):\n\u001b[0;32m--> <a href='file:///usr/local/lib/python3.9/site-packages/pandas/core/frame.py?line=528'>529</a>\u001b[0m     mgr \u001b[39m=\u001b[39m init_dict(data, index, columns, dtype\u001b[39m=\u001b[39;49mdtype)\n\u001b[1;32m    <a href='file:///usr/local/lib/python3.9/site-packages/pandas/core/frame.py?line=529'>530</a>\u001b[0m \u001b[39melif\u001b[39;00m \u001b[39misinstance\u001b[39m(data, ma\u001b[39m.\u001b[39mMaskedArray):\n\u001b[1;32m    <a href='file:///usr/local/lib/python3.9/site-packages/pandas/core/frame.py?line=530'>531</a>\u001b[0m     \u001b[39mimport\u001b[39;00m \u001b[39mnumpy\u001b[39;00m\u001b[39m.\u001b[39;00m\u001b[39mma\u001b[39;00m\u001b[39m.\u001b[39;00m\u001b[39mmrecords\u001b[39;00m \u001b[39mas\u001b[39;00m \u001b[39mmrecords\u001b[39;00m\n",
            "File \u001b[0;32m/usr/local/lib/python3.9/site-packages/pandas/core/internals/construction.py:287\u001b[0m, in \u001b[0;36minit_dict\u001b[0;34m(data, index, columns, dtype)\u001b[0m\n\u001b[1;32m    <a href='file:///usr/local/lib/python3.9/site-packages/pandas/core/internals/construction.py?line=280'>281</a>\u001b[0m     arrays \u001b[39m=\u001b[39m [\n\u001b[1;32m    <a href='file:///usr/local/lib/python3.9/site-packages/pandas/core/internals/construction.py?line=281'>282</a>\u001b[0m         arr \u001b[39mif\u001b[39;00m \u001b[39mnot\u001b[39;00m \u001b[39misinstance\u001b[39m(arr, ABCIndexClass) \u001b[39melse\u001b[39;00m arr\u001b[39m.\u001b[39m_data \u001b[39mfor\u001b[39;00m arr \u001b[39min\u001b[39;00m arrays\n\u001b[1;32m    <a href='file:///usr/local/lib/python3.9/site-packages/pandas/core/internals/construction.py?line=282'>283</a>\u001b[0m     ]\n\u001b[1;32m    <a href='file:///usr/local/lib/python3.9/site-packages/pandas/core/internals/construction.py?line=283'>284</a>\u001b[0m     arrays \u001b[39m=\u001b[39m [\n\u001b[1;32m    <a href='file:///usr/local/lib/python3.9/site-packages/pandas/core/internals/construction.py?line=284'>285</a>\u001b[0m         arr \u001b[39mif\u001b[39;00m \u001b[39mnot\u001b[39;00m is_datetime64tz_dtype(arr) \u001b[39melse\u001b[39;00m arr\u001b[39m.\u001b[39mcopy() \u001b[39mfor\u001b[39;00m arr \u001b[39min\u001b[39;00m arrays\n\u001b[1;32m    <a href='file:///usr/local/lib/python3.9/site-packages/pandas/core/internals/construction.py?line=285'>286</a>\u001b[0m     ]\n\u001b[0;32m--> <a href='file:///usr/local/lib/python3.9/site-packages/pandas/core/internals/construction.py?line=286'>287</a>\u001b[0m \u001b[39mreturn\u001b[39;00m arrays_to_mgr(arrays, data_names, index, columns, dtype\u001b[39m=\u001b[39;49mdtype)\n",
            "File \u001b[0;32m/usr/local/lib/python3.9/site-packages/pandas/core/internals/construction.py:80\u001b[0m, in \u001b[0;36marrays_to_mgr\u001b[0;34m(arrays, arr_names, index, columns, dtype, verify_integrity)\u001b[0m\n\u001b[1;32m     <a href='file:///usr/local/lib/python3.9/site-packages/pandas/core/internals/construction.py?line=76'>77</a>\u001b[0m \u001b[39mif\u001b[39;00m verify_integrity:\n\u001b[1;32m     <a href='file:///usr/local/lib/python3.9/site-packages/pandas/core/internals/construction.py?line=77'>78</a>\u001b[0m     \u001b[39m# figure out the index, if necessary\u001b[39;00m\n\u001b[1;32m     <a href='file:///usr/local/lib/python3.9/site-packages/pandas/core/internals/construction.py?line=78'>79</a>\u001b[0m     \u001b[39mif\u001b[39;00m index \u001b[39mis\u001b[39;00m \u001b[39mNone\u001b[39;00m:\n\u001b[0;32m---> <a href='file:///usr/local/lib/python3.9/site-packages/pandas/core/internals/construction.py?line=79'>80</a>\u001b[0m         index \u001b[39m=\u001b[39m extract_index(arrays)\n\u001b[1;32m     <a href='file:///usr/local/lib/python3.9/site-packages/pandas/core/internals/construction.py?line=80'>81</a>\u001b[0m     \u001b[39melse\u001b[39;00m:\n\u001b[1;32m     <a href='file:///usr/local/lib/python3.9/site-packages/pandas/core/internals/construction.py?line=81'>82</a>\u001b[0m         index \u001b[39m=\u001b[39m ensure_index(index)\n",
            "File \u001b[0;32m/usr/local/lib/python3.9/site-packages/pandas/core/internals/construction.py:401\u001b[0m, in \u001b[0;36mextract_index\u001b[0;34m(data)\u001b[0m\n\u001b[1;32m    <a href='file:///usr/local/lib/python3.9/site-packages/pandas/core/internals/construction.py?line=398'>399</a>\u001b[0m lengths \u001b[39m=\u001b[39m \u001b[39mlist\u001b[39m(\u001b[39mset\u001b[39m(raw_lengths))\n\u001b[1;32m    <a href='file:///usr/local/lib/python3.9/site-packages/pandas/core/internals/construction.py?line=399'>400</a>\u001b[0m \u001b[39mif\u001b[39;00m \u001b[39mlen\u001b[39m(lengths) \u001b[39m>\u001b[39m \u001b[39m1\u001b[39m:\n\u001b[0;32m--> <a href='file:///usr/local/lib/python3.9/site-packages/pandas/core/internals/construction.py?line=400'>401</a>\u001b[0m     \u001b[39mraise\u001b[39;00m \u001b[39mValueError\u001b[39;00m(\u001b[39m\"\u001b[39m\u001b[39marrays must all be same length\u001b[39m\u001b[39m\"\u001b[39m)\n\u001b[1;32m    <a href='file:///usr/local/lib/python3.9/site-packages/pandas/core/internals/construction.py?line=402'>403</a>\u001b[0m \u001b[39mif\u001b[39;00m have_dicts:\n\u001b[1;32m    <a href='file:///usr/local/lib/python3.9/site-packages/pandas/core/internals/construction.py?line=403'>404</a>\u001b[0m     \u001b[39mraise\u001b[39;00m \u001b[39mValueError\u001b[39;00m(\n\u001b[1;32m    <a href='file:///usr/local/lib/python3.9/site-packages/pandas/core/internals/construction.py?line=404'>405</a>\u001b[0m         \u001b[39m\"\u001b[39m\u001b[39mMixing dicts with non-Series may lead to ambiguous ordering.\u001b[39m\u001b[39m\"\u001b[39m\n\u001b[1;32m    <a href='file:///usr/local/lib/python3.9/site-packages/pandas/core/internals/construction.py?line=405'>406</a>\u001b[0m     )\n",
            "\u001b[0;31mValueError\u001b[0m: arrays must all be same length"
          ]
        }
      ],
      "source": [
        "pred = pd.DataFrame({        \n",
        "        \"Survived_original\": y_test,\n",
        "        \"Survived_predicted\": y_pred,\n",
        "        \"Survived_proba\": np.transpose(y_probs)[1]      \n",
        "        })\n",
        "pred[\"Comparison\"]= pred.Survived_original ==pred.Survived_predicted\n",
        "pred.head()"
      ]
    },
    {
      "cell_type": "markdown",
      "metadata": {
        "id": "Phow9sQf9Xct"
      },
      "source": [
        "## Confusion matrix"
      ]
    },
    {
      "cell_type": "code",
      "execution_count": 54,
      "metadata": {
        "collapsed": true,
        "id": "5uI53Euc9Xct"
      },
      "outputs": [
        {
          "name": "stdout",
          "output_type": "stream",
          "text": [
            "[[131  22]\n",
            " [ 44  71]]\n",
            "              precision    recall  f1-score   support\n",
            "\n",
            "           0       0.75      0.86      0.80       153\n",
            "           1       0.76      0.62      0.68       115\n",
            "\n",
            "    accuracy                           0.75       268\n",
            "   macro avg       0.76      0.74      0.74       268\n",
            "weighted avg       0.75      0.75      0.75       268\n",
            "\n"
          ]
        }
      ],
      "source": [
        "from sklearn import metrics\n",
        "print (metrics.confusion_matrix(y_test, y_pred))\n",
        "print (metrics.classification_report(y_test, y_pred))"
      ]
    },
    {
      "cell_type": "markdown",
      "metadata": {
        "id": "Uvm8Z-pM9Xct"
      },
      "source": [
        "As you can see, we can have the classification report for each class"
      ]
    },
    {
      "cell_type": "markdown",
      "metadata": {
        "id": "lOBU4czd9Xct"
      },
      "source": [
        "## K-Fold Cross Validation"
      ]
    },
    {
      "cell_type": "code",
      "execution_count": 55,
      "metadata": {
        "collapsed": true,
        "id": "vY5Jyd6E9Xct"
      },
      "outputs": [
        {
          "name": "stdout",
          "output_type": "stream",
          "text": [
            "[0.7877095  0.78651685 0.78089888 0.76966292 0.82022472]\n",
            "0.7890025735986442\n"
          ]
        }
      ],
      "source": [
        "# import cross_validation from: http://scikit-learn.org/stable/modules/generated/sklearn.model_selection.cross_val_score.html\n",
        "from sklearn.model_selection import cross_val_score\n",
        "clf = LogisticRegression(random_state=1)\n",
        "scores = cross_val_score(clf, titanic[predictors], titanic[\"Survived\"], scoring='accuracy', cv=5)\n",
        "## see model \n",
        "print(scores)\n",
        "# Take the mean of the scores (because we have one for each fold)\n",
        "print(scores.mean())"
      ]
    },
    {
      "cell_type": "markdown",
      "metadata": {
        "collapsed": true,
        "id": "wzBrwUE_9Xct"
      },
      "source": [
        "When you are improving a model, you want to make sur that you are really doing it and not just being lucky. This is why it's good to work with cross validation instead of one train/test split."
      ]
    },
    {
      "cell_type": "code",
      "execution_count": null,
      "metadata": {
        "collapsed": true,
        "id": "TE4z7B6g9Xcu"
      },
      "outputs": [],
      "source": [
        "     "
      ]
    }
  ],
  "metadata": {
    "anaconda-cloud": {},
    "colab": {
      "collapsed_sections": [],
      "name": "Lab3-[Logistic Regression]-Titanic.ipynb",
      "provenance": []
    },
    "interpreter": {
      "hash": "aee8b7b246df8f9039afb4144a1f6fd8d2ca17a180786b69acc140d282b71a49"
    },
    "kernelspec": {
      "display_name": "ml_week2",
      "language": "python",
      "name": "python3"
    },
    "language_info": {
      "codemirror_mode": {
        "name": "ipython",
        "version": 3
      },
      "file_extension": ".py",
      "mimetype": "text/x-python",
      "name": "python",
      "nbconvert_exporter": "python",
      "pygments_lexer": "ipython3",
      "version": "3.9.7"
    }
  },
  "nbformat": 4,
  "nbformat_minor": 0
}
