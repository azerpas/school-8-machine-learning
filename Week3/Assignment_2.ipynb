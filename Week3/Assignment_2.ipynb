{
 "cells": [
  {
   "cell_type": "markdown",
   "metadata": {},
   "source": [
    "# WEEK 3\n",
    "\n",
    "Anthony Manikhouth M1 LSI2"
   ]
  },
  {
   "cell_type": "markdown",
   "metadata": {},
   "source": [
    "# Assignment 2"
   ]
  },
  {
   "cell_type": "markdown",
   "metadata": {},
   "source": [
    "In this Assignment, you will explore the **FIFA 19** dataset, which contains detailed attributes for every player registered in the latest edition of FIFA 19 database.    \n",
    "It was scrapped from this [website](https://sofifa.com/), and you can find the source code [here](https://github.com/amanthedorkknight/fifa18-all-player-statistics/tree/master/2019).\n",
    "\n",
    "Your goal is to find out how the `Overall` score by player is calculated\n",
    "\n",
    "There are 2 main parts:\n",
    "\n",
    "* Data Import & Cleaning, the output of this part is provided in the csv file `Assignment_2_data_cleaned`, **so you do not need to have everything right in this part to do the second one**\n",
    "* Modeling with the cleaned data"
   ]
  },
  {
   "cell_type": "markdown",
   "metadata": {},
   "source": [
    "In the notebook, there will be cells in the form `assert condition` like the next one. They are used to check if an answer is correct.  \n",
    "Execute the next one and you will get no errors"
   ]
  },
  {
   "cell_type": "code",
   "execution_count": 1,
   "metadata": {},
   "outputs": [],
   "source": [
    "assert 3 < 5"
   ]
  },
  {
   "cell_type": "markdown",
   "metadata": {},
   "source": [
    "Execute the next one and you will get an error"
   ]
  },
  {
   "cell_type": "code",
   "execution_count": 2,
   "metadata": {},
   "outputs": [
    {
     "ename": "AssertionError",
     "evalue": "",
     "output_type": "error",
     "traceback": [
      "\u001b[0;31m---------------------------------------------------------------------------\u001b[0m",
      "\u001b[0;31mAssertionError\u001b[0m                            Traceback (most recent call last)",
      "Input \u001b[0;32mIn [2]\u001b[0m, in \u001b[0;36m<module>\u001b[0;34m\u001b[0m\n\u001b[0;32m----> 1\u001b[0m \u001b[38;5;28;01massert\u001b[39;00m \u001b[38;5;241m3\u001b[39m \u001b[38;5;241m>\u001b[39m \u001b[38;5;241m5\u001b[39m\n",
      "\u001b[0;31mAssertionError\u001b[0m: "
     ]
    }
   ],
   "source": [
    "# assert 3 > 5\n",
    "# Error as 3 > 5 is false"
   ]
  },
  {
   "cell_type": "markdown",
   "metadata": {},
   "source": [
    "# Data Import"
   ]
  },
  {
   "cell_type": "code",
   "execution_count": 3,
   "metadata": {},
   "outputs": [],
   "source": [
    "import pandas as pd\n",
    "import numpy as np\n",
    "import matplotlib.pyplot as plt\n",
    "%matplotlib inline"
   ]
  },
  {
   "cell_type": "markdown",
   "metadata": {},
   "source": [
    "1.1. Load the csv file `data.csv` into a dataframe called `df` and print its shape. (Set the right parameters when reading the csv file)       "
   ]
  },
  {
   "cell_type": "code",
   "execution_count": 96,
   "metadata": {},
   "outputs": [
    {
     "name": "stdout",
     "output_type": "stream",
     "text": [
      "Shape:  (18207, 88)\n"
     ]
    }
   ],
   "source": [
    "df = pd.read_csv(\"Assignment_2_data.csv\")\n",
    "df = df.iloc[:, 1:] # We remove the first column as it is empty\n",
    "print(\"Shape: \", df.shape)"
   ]
  },
  {
   "cell_type": "code",
   "execution_count": 7,
   "metadata": {},
   "outputs": [],
   "source": [
    "# check if your answer is correct\n",
    "assert df.shape == (18207, 88)"
   ]
  },
  {
   "cell_type": "markdown",
   "metadata": {},
   "source": [
    "1.2. print the head of `df`"
   ]
  },
  {
   "cell_type": "code",
   "execution_count": 8,
   "metadata": {},
   "outputs": [
    {
     "name": "stdout",
     "output_type": "stream",
     "text": [
      "       ID               Name  Age  \\\n",
      "0  158023           L. Messi   31   \n",
      "1   20801  Cristiano Ronaldo   33   \n",
      "2  190871          Neymar Jr   26   \n",
      "3  193080             De Gea   27   \n",
      "4  192985       K. De Bruyne   27   \n",
      "\n",
      "                                            Photo Nationality  \\\n",
      "0  https://cdn.sofifa.org/players/4/19/158023.png   Argentina   \n",
      "1   https://cdn.sofifa.org/players/4/19/20801.png    Portugal   \n",
      "2  https://cdn.sofifa.org/players/4/19/190871.png      Brazil   \n",
      "3  https://cdn.sofifa.org/players/4/19/193080.png       Spain   \n",
      "4  https://cdn.sofifa.org/players/4/19/192985.png     Belgium   \n",
      "\n",
      "                                  Flag  Overall  Potential  \\\n",
      "0  https://cdn.sofifa.org/flags/52.png       94         94   \n",
      "1  https://cdn.sofifa.org/flags/38.png       94         94   \n",
      "2  https://cdn.sofifa.org/flags/54.png       92         93   \n",
      "3  https://cdn.sofifa.org/flags/45.png       91         93   \n",
      "4   https://cdn.sofifa.org/flags/7.png       91         92   \n",
      "\n",
      "                  Club                                     Club Logo  ...  \\\n",
      "0         FC Barcelona  https://cdn.sofifa.org/teams/2/light/241.png  ...   \n",
      "1             Juventus   https://cdn.sofifa.org/teams/2/light/45.png  ...   \n",
      "2  Paris Saint-Germain   https://cdn.sofifa.org/teams/2/light/73.png  ...   \n",
      "3    Manchester United   https://cdn.sofifa.org/teams/2/light/11.png  ...   \n",
      "4      Manchester City   https://cdn.sofifa.org/teams/2/light/10.png  ...   \n",
      "\n",
      "  Composure Marking  StandingTackle SlidingTackle  GKDiving  GKHandling  \\\n",
      "0      96.0    33.0            28.0          26.0       6.0        11.0   \n",
      "1      95.0    28.0            31.0          23.0       7.0        11.0   \n",
      "2      94.0    27.0            24.0          33.0       9.0         9.0   \n",
      "3      68.0    15.0            21.0          13.0      90.0        85.0   \n",
      "4      88.0    68.0            58.0          51.0      15.0        13.0   \n",
      "\n",
      "   GKKicking GKPositioning GKReflexes Release Clause  \n",
      "0       15.0          14.0        8.0        €226.5M  \n",
      "1       15.0          14.0       11.0        €127.1M  \n",
      "2       15.0          15.0       11.0        €228.1M  \n",
      "3       87.0          88.0       94.0        €138.6M  \n",
      "4        5.0          10.0       13.0        €196.4M  \n",
      "\n",
      "[5 rows x 88 columns]\n"
     ]
    }
   ],
   "source": [
    "print(df.head())"
   ]
  },
  {
   "cell_type": "markdown",
   "metadata": {},
   "source": [
    "1.3. Print how many columns that are in df columns types"
   ]
  },
  {
   "cell_type": "code",
   "execution_count": 9,
   "metadata": {},
   "outputs": [
    {
     "name": "stdout",
     "output_type": "stream",
     "text": [
      "88\n"
     ]
    }
   ],
   "source": [
    "print(df.columns.size)"
   ]
  },
  {
   "cell_type": "markdown",
   "metadata": {},
   "source": [
    "1.4. `to_drop` is a list containing columns that are not useful for modeling, remove them and print the new shape of `df`"
   ]
  },
  {
   "cell_type": "code",
   "execution_count": 97,
   "metadata": {},
   "outputs": [],
   "source": [
    "to_drop =['ID', 'Name', 'Photo','Nationality', 'Flag','Club','Club Logo', 'Real Face', 'Joined', 'Loaned From', 'Contract Valid Until']\n",
    "for i in to_drop:\n",
    "    df.pop(i)"
   ]
  },
  {
   "cell_type": "code",
   "execution_count": 98,
   "metadata": {},
   "outputs": [],
   "source": [
    "# check if your answer is correct\n",
    "assert df.shape == (18207, 77)"
   ]
  },
  {
   "cell_type": "markdown",
   "metadata": {},
   "source": [
    "# Data Cleaning"
   ]
  },
  {
   "cell_type": "markdown",
   "metadata": {},
   "source": [
    "## Handling missing values"
   ]
  },
  {
   "cell_type": "markdown",
   "metadata": {},
   "source": [
    "2.1. Build a dataframe called `missing` which has the following format:\n",
    "\n",
    "* `pct` is the percentage of missing values, **takes values between `0` and `100`**\n",
    "* the index is the column names\n",
    "\n",
    "|     | pct |\n",
    "|-----|-----|\n",
    "|......|.....|\n",
    "|Strength |0.263635|\n",
    "|.....|.....|\n",
    "\n"
   ]
  },
  {
   "cell_type": "code",
   "execution_count": 99,
   "metadata": {},
   "outputs": [
    {
     "name": "stdout",
     "output_type": "stream",
     "text": [
      "                     pct\n",
      "Age             0.000000\n",
      "Overall         0.000000\n",
      "Potential       0.000000\n",
      "Value           0.000000\n",
      "Wage            0.000000\n",
      "...                  ...\n",
      "GKHandling      0.263635\n",
      "GKKicking       0.263635\n",
      "GKPositioning   0.263635\n",
      "GKReflexes      0.263635\n",
      "Release Clause  8.590103\n",
      "\n",
      "[77 rows x 1 columns]\n"
     ]
    }
   ],
   "source": [
    "missing = pd.DataFrame(df.isnull().sum() / len(df) *100)\n",
    "missing.columns = [\"pct\"]\n",
    "print(missing)"
   ]
  },
  {
   "cell_type": "markdown",
   "metadata": {},
   "source": [
    "2.2. Remove from `missing`, rows with `pct`= 0   \n",
    "sort `missing` in ascending order of `pct` and print its head"
   ]
  },
  {
   "cell_type": "code",
   "execution_count": 100,
   "metadata": {},
   "outputs": [
    {
     "name": "stdout",
     "output_type": "stream",
     "text": [
      "                               pct\n",
      "Preferred Foot            0.263635\n",
      "International Reputation  0.263635\n",
      "Weak Foot                 0.263635\n",
      "Skill Moves               0.263635\n",
      "Work Rate                 0.263635\n"
     ]
    }
   ],
   "source": [
    "missing = missing[(missing.pct != 0)]\n",
    "missing.sort_values(by=\"pct\", ascending=True)\n",
    "print(missing.head())"
   ]
  },
  {
   "cell_type": "markdown",
   "metadata": {},
   "source": [
    "2.3. Now, let's fill missing values where the % of missing is lower than 1 (1%).   \n",
    "First identify these columns in a list named `cols_to_fill`"
   ]
  },
  {
   "cell_type": "code",
   "execution_count": 101,
   "metadata": {},
   "outputs": [
    {
     "name": "stdout",
     "output_type": "stream",
     "text": [
      "44 <class 'list'>\n",
      "['Preferred Foot', 'International Reputation', 'Weak Foot', 'Skill Moves', 'Work Rate', 'Body Type', 'Position', 'Jersey Number', 'Height', 'Weight', 'Crossing', 'Finishing', 'HeadingAccuracy', 'ShortPassing', 'Volleys', 'Dribbling', 'Curve', 'FKAccuracy', 'LongPassing', 'BallControl', 'Acceleration', 'SprintSpeed', 'Agility', 'Reactions', 'Balance', 'ShotPower', 'Jumping', 'Stamina', 'Strength', 'LongShots', 'Aggression', 'Interceptions', 'Positioning', 'Vision', 'Penalties', 'Composure', 'Marking', 'StandingTackle', 'SlidingTackle', 'GKDiving', 'GKHandling', 'GKKicking', 'GKPositioning', 'GKReflexes']\n"
     ]
    }
   ],
   "source": [
    "cols_to_fill = missing[(missing.pct > 0) & (missing.pct < 1)].index.tolist()\n",
    "print(len(cols_to_fill), type(cols_to_fill))\n",
    "print(cols_to_fill)"
   ]
  },
  {
   "cell_type": "code",
   "execution_count": 102,
   "metadata": {},
   "outputs": [],
   "source": [
    "# check if your answer is correct\n",
    "assert len(cols_to_fill) == 44; assert isinstance(cols_to_fill, list)"
   ]
  },
  {
   "cell_type": "markdown",
   "metadata": {},
   "source": [
    "2.4. define a function (`fill_nas_by_type`) to fill null values by column type:\n",
    "\n",
    "* if a column type is `Object`, fill it with the **most frequent value**\n",
    "* otherwise, fill it with the **median value**"
   ]
  },
  {
   "cell_type": "code",
   "execution_count": 135,
   "metadata": {
    "code_folding": []
   },
   "outputs": [],
   "source": [
    "def fill_nas_by_type(df: pd.DataFrame, col_name):\n",
    "    \"\"\"Fill null values in df according to col_name type\n",
    "    \n",
    "    Parameters\n",
    "    ----------\n",
    "    df : dataframe, (default=None)\n",
    "        input dataframe\n",
    "    col_name : str, (default=None)\n",
    "        column with null values to fill\n",
    "        \n",
    "    Returns\n",
    "    -------\n",
    "    df with filled values in col_name\n",
    "    \"\"\"\n",
    "    if df[col_name].dtype == \"object\":\n",
    "        df[col_name].fillna(df[col_name].mode()[0], inplace=True)\n",
    "    else:\n",
    "        df[col_name].fillna(df[col_name].median(), inplace=True)\n",
    "    \n",
    "    return df"
   ]
  },
  {
   "cell_type": "markdown",
   "metadata": {},
   "source": [
    "Loop through `cols_to_fill` and apply the defined function `fill_nas_by_type` to fill null values"
   ]
  },
  {
   "cell_type": "code",
   "execution_count": 136,
   "metadata": {},
   "outputs": [],
   "source": [
    "for i in cols_to_fill:\n",
    "    df = fill_nas_by_type(df, i)"
   ]
  },
  {
   "cell_type": "code",
   "execution_count": 138,
   "metadata": {},
   "outputs": [],
   "source": [
    "# check if your answer is correct\n",
    "assert df[cols_to_fill].isnull().sum().sum() == 0"
   ]
  },
  {
   "cell_type": "markdown",
   "metadata": {},
   "source": [
    "For the remaining missing values, let's just remove them.    \n",
    "Print the shape of `df` before and after removing any rows with missing observations"
   ]
  },
  {
   "cell_type": "code",
   "execution_count": 140,
   "metadata": {},
   "outputs": [
    {
     "name": "stdout",
     "output_type": "stream",
     "text": [
      "(18207, 77)\n",
      "(14743, 77)\n"
     ]
    }
   ],
   "source": [
    "print(df.shape)\n",
    "df.dropna(inplace=True)\n",
    "print(df.shape)"
   ]
  },
  {
   "cell_type": "code",
   "execution_count": 141,
   "metadata": {},
   "outputs": [],
   "source": [
    "# check if your answer is correct\n",
    "assert df.shape == (14743, 77); assert df.isnull().sum().sum() == 0"
   ]
  },
  {
   "cell_type": "markdown",
   "metadata": {
    "heading_collapsed": true
   },
   "source": [
    "## Correct some columns format"
   ]
  },
  {
   "cell_type": "markdown",
   "metadata": {
    "hidden": true
   },
   "source": [
    "### Monetary columns"
   ]
  },
  {
   "cell_type": "code",
   "execution_count": 142,
   "metadata": {
    "hidden": true
   },
   "outputs": [
    {
     "data": {
      "text/html": [
       "<div>\n",
       "<style scoped>\n",
       "    .dataframe tbody tr th:only-of-type {\n",
       "        vertical-align: middle;\n",
       "    }\n",
       "\n",
       "    .dataframe tbody tr th {\n",
       "        vertical-align: top;\n",
       "    }\n",
       "\n",
       "    .dataframe thead th {\n",
       "        text-align: right;\n",
       "    }\n",
       "</style>\n",
       "<table border=\"1\" class=\"dataframe\">\n",
       "  <thead>\n",
       "    <tr style=\"text-align: right;\">\n",
       "      <th></th>\n",
       "      <th>Value</th>\n",
       "      <th>Wage</th>\n",
       "      <th>Release Clause</th>\n",
       "    </tr>\n",
       "  </thead>\n",
       "  <tbody>\n",
       "    <tr>\n",
       "      <th>0</th>\n",
       "      <td>€110.5M</td>\n",
       "      <td>€565K</td>\n",
       "      <td>€226.5M</td>\n",
       "    </tr>\n",
       "    <tr>\n",
       "      <th>1</th>\n",
       "      <td>€77M</td>\n",
       "      <td>€405K</td>\n",
       "      <td>€127.1M</td>\n",
       "    </tr>\n",
       "    <tr>\n",
       "      <th>2</th>\n",
       "      <td>€118.5M</td>\n",
       "      <td>€290K</td>\n",
       "      <td>€228.1M</td>\n",
       "    </tr>\n",
       "    <tr>\n",
       "      <th>4</th>\n",
       "      <td>€102M</td>\n",
       "      <td>€355K</td>\n",
       "      <td>€196.4M</td>\n",
       "    </tr>\n",
       "    <tr>\n",
       "      <th>5</th>\n",
       "      <td>€93M</td>\n",
       "      <td>€340K</td>\n",
       "      <td>€172.1M</td>\n",
       "    </tr>\n",
       "  </tbody>\n",
       "</table>\n",
       "</div>"
      ],
      "text/plain": [
       "     Value   Wage Release Clause\n",
       "0  €110.5M  €565K        €226.5M\n",
       "1     €77M  €405K        €127.1M\n",
       "2  €118.5M  €290K        €228.1M\n",
       "4    €102M  €355K        €196.4M\n",
       "5     €93M  €340K        €172.1M"
      ]
     },
     "execution_count": 142,
     "metadata": {},
     "output_type": "execute_result"
    }
   ],
   "source": [
    "money_cols = ['Value','Wage', 'Release Clause']\n",
    "df[money_cols].head()"
   ]
  },
  {
   "cell_type": "markdown",
   "metadata": {
    "hidden": true
   },
   "source": [
    "3.1. Build a function which extracts the monetary value from a string. It should return a number with no decimals.   \n",
    "Your function should pass the three tests in the cell after"
   ]
  },
  {
   "cell_type": "code",
   "execution_count": 143,
   "metadata": {
    "code_folding": [
     0
    ],
    "hidden": true
   },
   "outputs": [],
   "source": [
    "def get_value(value_text):\n",
    "    \"\"\"Extract the monetary value from a string\n",
    "    \n",
    "    Parameters\n",
    "    ----------\n",
    "    value_text: str, (default=None)\n",
    "        a string containing a number ending with M, K or nothing\n",
    "        \n",
    "    Returns\n",
    "    -------\n",
    "    a float with no decimals\n",
    "    \n",
    "    Examples\n",
    "    --------\n",
    "    >>> get_value('€7.1K')\n",
    "    7100.0\n",
    "    \"\"\"\n",
    "    multiplier = value_text[-1]\n",
    "    if multiplier == 'M':\n",
    "        number = float(value_text[1:-1])\n",
    "        return number * 1000000\n",
    "    elif multiplier == 'K':\n",
    "        number = float(value_text[1:-1])\n",
    "        return number * 1000\n",
    "    else:\n",
    "        return float(value_text[1:])    "
   ]
  },
  {
   "cell_type": "code",
   "execution_count": 144,
   "metadata": {
    "hidden": true
   },
   "outputs": [],
   "source": [
    "# check if your answer is correct\n",
    "assert get_value('€110.5M') == 110500000; assert get_value('€7.1K') == 7100; assert get_value('€200') == 200"
   ]
  },
  {
   "cell_type": "markdown",
   "metadata": {
    "hidden": true
   },
   "source": [
    "3.2. Loop through `money_cols` and apply the defined function `get_value` to convert them to numeric"
   ]
  },
  {
   "cell_type": "code",
   "execution_count": 145,
   "metadata": {
    "hidden": true,
    "scrolled": false
   },
   "outputs": [
    {
     "name": "stdout",
     "output_type": "stream",
     "text": [
      "Value float64 0\n",
      "Wage float64 0\n",
      "Release Clause float64 0\n"
     ]
    }
   ],
   "source": [
    "for f in money_cols:\n",
    "    df[f] =df[f].apply(get_value)\n",
    "    print(f, df[f].dtype, df[f].isnull().sum())"
   ]
  },
  {
   "cell_type": "code",
   "execution_count": 146,
   "metadata": {
    "hidden": true
   },
   "outputs": [],
   "source": [
    "# check if your answer is correct\n",
    "assert df[money_cols].isnull().sum().sum() == 0"
   ]
  },
  {
   "cell_type": "markdown",
   "metadata": {
    "hidden": true
   },
   "source": [
    "### Height and Weight columns"
   ]
  },
  {
   "cell_type": "markdown",
   "metadata": {
    "hidden": true
   },
   "source": [
    "4.1. Start by printing the unique values for `Height`"
   ]
  },
  {
   "cell_type": "code",
   "execution_count": 147,
   "metadata": {
    "hidden": true
   },
   "outputs": [
    {
     "data": {
      "text/plain": [
       "array([\"5'7\", \"6'2\", \"5'9\", \"5'11\", \"5'8\", \"6'0\", \"5'6\", \"5'10\", \"6'1\",\n",
       "       \"5'4\", \"6'3\", \"6'4\", \"5'5\", \"6'6\", \"6'5\", \"5'3\", \"5'2\", \"6'7\",\n",
       "       \"5'1\", \"6'8\"], dtype=object)"
      ]
     },
     "execution_count": 147,
     "metadata": {},
     "output_type": "execute_result"
    }
   ],
   "source": [
    "# print unique values for Height\n",
    "df['Height'].unique()"
   ]
  },
  {
   "cell_type": "markdown",
   "metadata": {
    "hidden": true
   },
   "source": [
    "4.2. Write a function (`get_height`) which converts the Height from a string in feet to  a number in `cm` with no decimals.    \n",
    "1 feet = 30.48 cm. For example `get_height(\"5'10\")` = `155`"
   ]
  },
  {
   "cell_type": "code",
   "execution_count": 148,
   "metadata": {
    "hidden": true
   },
   "outputs": [],
   "source": [
    "def get_height(x):\n",
    "    return  round(float(x.replace(\"'\", \".\")) * 30.48, 0) "
   ]
  },
  {
   "cell_type": "code",
   "execution_count": 149,
   "metadata": {
    "hidden": true
   },
   "outputs": [],
   "source": [
    "# check if your answer is correct\n",
    "assert get_height(\"5'10\") == 155; assert get_height(\"6'8\") == 207"
   ]
  },
  {
   "cell_type": "markdown",
   "metadata": {
    "hidden": true
   },
   "source": [
    "Apply the previous defined function on `Height`"
   ]
  },
  {
   "cell_type": "code",
   "execution_count": 150,
   "metadata": {
    "hidden": true
   },
   "outputs": [],
   "source": [
    "df['Height'] = df['Height'].apply(get_height)"
   ]
  },
  {
   "cell_type": "code",
   "execution_count": 151,
   "metadata": {
    "hidden": true
   },
   "outputs": [],
   "source": [
    "# check if your answer is correct\n",
    "assert df['Height'].dtype == 'float64'; assert df['Height'].isnull().sum() == 0"
   ]
  },
  {
   "cell_type": "markdown",
   "metadata": {
    "hidden": true
   },
   "source": [
    "4.3. The same thing with `Weight`, print the unique values"
   ]
  },
  {
   "cell_type": "code",
   "execution_count": 152,
   "metadata": {
    "hidden": true
   },
   "outputs": [
    {
     "data": {
      "text/plain": [
       "array(['159lbs', '183lbs', '150lbs', '154lbs', '163lbs', '146lbs',\n",
       "       '190lbs', '181lbs', '176lbs', '168lbs', '172lbs', '148lbs',\n",
       "       '165lbs', '196lbs', '161lbs', '170lbs', '187lbs', '157lbs',\n",
       "       '185lbs', '130lbs', '174lbs', '203lbs', '207lbs', '134lbs',\n",
       "       '141lbs', '152lbs', '179lbs', '132lbs', '198lbs', '201lbs',\n",
       "       '209lbs', '214lbs', '143lbs', '192lbs', '137lbs', '194lbs',\n",
       "       '139lbs', '220lbs', '205lbs', '216lbs', '126lbs', '123lbs',\n",
       "       '128lbs', '223lbs', '212lbs', '121lbs', '115lbs', '218lbs',\n",
       "       '117lbs', '243lbs', '110lbs', '119lbs', '234lbs'], dtype=object)"
      ]
     },
     "execution_count": 152,
     "metadata": {},
     "output_type": "execute_result"
    }
   ],
   "source": [
    "# print unique values for Weight\n",
    "df['Weight'].unique()"
   ]
  },
  {
   "cell_type": "markdown",
   "metadata": {
    "hidden": true
   },
   "source": [
    "4.4. Write a function (`get_weight`) which converts the **Weight** from a string in `lbs` to a number in `kg` with no decimals.    \n",
    "1 lbs = 0.453592 kg. For example `get_weight(\"115lbs\")` = `52`"
   ]
  },
  {
   "cell_type": "code",
   "execution_count": 153,
   "metadata": {
    "hidden": true
   },
   "outputs": [],
   "source": [
    "def get_weight(x):\n",
    "    return  round(float(x.split('lbs')[0]) * 0.453592, 0)"
   ]
  },
  {
   "cell_type": "code",
   "execution_count": 154,
   "metadata": {
    "hidden": true
   },
   "outputs": [],
   "source": [
    "# check if your answer is correct\n",
    "assert get_weight(\"115lbs\") == 52; assert get_weight(\"234lbs\") == 106"
   ]
  },
  {
   "cell_type": "markdown",
   "metadata": {
    "hidden": true
   },
   "source": [
    "Apply the previous defined function on `Weight`"
   ]
  },
  {
   "cell_type": "code",
   "execution_count": 155,
   "metadata": {
    "hidden": true
   },
   "outputs": [],
   "source": [
    "df['Weight'] = df['Weight'].apply(get_weight)"
   ]
  },
  {
   "cell_type": "code",
   "execution_count": 156,
   "metadata": {
    "hidden": true
   },
   "outputs": [],
   "source": [
    "# check if your answer is correct\n",
    "assert df['Weight'].dtype == 'float64'; assert df['Weight'].isnull().sum() == 0"
   ]
  },
  {
   "cell_type": "markdown",
   "metadata": {},
   "source": [
    "## Convert text columns to numeric"
   ]
  },
  {
   "cell_type": "markdown",
   "metadata": {},
   "source": [
    "5.1. Identify non-numeric text columns in a list called `text_cols`"
   ]
  },
  {
   "cell_type": "code",
   "execution_count": 169,
   "metadata": {},
   "outputs": [
    {
     "name": "stdout",
     "output_type": "stream",
     "text": [
      "30\n"
     ]
    }
   ],
   "source": [
    "text_cols = df.select_dtypes(exclude=[np.number]).columns.tolist()"
   ]
  },
  {
   "cell_type": "markdown",
   "metadata": {},
   "source": [
    "5.2. Build a list named `cols_to_remove` containing columns from `text_cols`, if a column has a number of unique values greater than **10** (`> 10`)"
   ]
  },
  {
   "cell_type": "code",
   "execution_count": 168,
   "metadata": {},
   "outputs": [
    {
     "name": "stdout",
     "output_type": "stream",
     "text": [
      "27\n"
     ]
    }
   ],
   "source": [
    "cols_to_remove = []\n",
    "for i in text_cols:\n",
    "    if df[i].unique().size > 10:\n",
    "        cols_to_remove.append(i)"
   ]
  },
  {
   "cell_type": "markdown",
   "metadata": {},
   "source": [
    "remove `cols_to_remove` columns from `df` and print its shape"
   ]
  },
  {
   "cell_type": "code",
   "execution_count": 170,
   "metadata": {},
   "outputs": [],
   "source": [
    "for i in cols_to_remove:\n",
    "    df.pop(i)"
   ]
  },
  {
   "cell_type": "code",
   "execution_count": 171,
   "metadata": {},
   "outputs": [],
   "source": [
    "# check if your answer is correct\n",
    "assert df.shape == (14743, 50)"
   ]
  },
  {
   "cell_type": "markdown",
   "metadata": {},
   "source": [
    "5.3. Identify the remaining text columns in `text_cols` as `remaining_text_cols`, make sur it passes the test after"
   ]
  },
  {
   "cell_type": "code",
   "execution_count": 180,
   "metadata": {},
   "outputs": [
    {
     "name": "stdout",
     "output_type": "stream",
     "text": [
      "3\n"
     ]
    }
   ],
   "source": [
    "remaining_text_cols = list(set(text_cols) - set(cols_to_remove))\n",
    "print(len(remaining_text_cols))"
   ]
  },
  {
   "cell_type": "code",
   "execution_count": 181,
   "metadata": {},
   "outputs": [],
   "source": [
    "# check if your answer is correct\n",
    "assert remaining_text_cols == ['Work Rate', 'Body Type', 'Preferred Foot']"
   ]
  },
  {
   "cell_type": "markdown",
   "metadata": {},
   "source": [
    "5.4. Loop through `remaining_text_cols` and convert them to numerical values"
   ]
  },
  {
   "cell_type": "code",
   "execution_count": 183,
   "metadata": {},
   "outputs": [],
   "source": [
    "for i in remaining_text_cols:\n",
    "    if i == \"Work Rate\":\n",
    "        df[i] = df[i].map({\"Low/ Low\": 0, \"Medium/ Low\": 1, \"Low/ Medium\": 1, \"Medium/ Medium\": 2, \"High/ Low\": 3, \"Low/ High\": 3, \"High/ Medium\": 4, \"Medium/ High\": 4, \"High/ High\": 6}).fillna(2, inplace=True)\n",
    "    elif i == \"Body Type\":\n",
    "        df[i] = df[i].map({\"Lean\": 0, \"Normal\": 1, \"Stocky\": 2, \"Messi\": 3, \"Ronaldo\": 3, \"Neymar\": 3}).fillna(4, inplace=True)\n",
    "    elif i == \"Preferred Foot\":\n",
    "        df[i] = df[i].map({\"Right\": 1, \"Left\": 0}).fillna(1, inplace=True)"
   ]
  },
  {
   "cell_type": "code",
   "execution_count": 184,
   "metadata": {},
   "outputs": [
    {
     "data": {
      "text/plain": [
       "(14743, 50)"
      ]
     },
     "execution_count": 184,
     "metadata": {},
     "output_type": "execute_result"
    }
   ],
   "source": [
    "df.shape"
   ]
  },
  {
   "cell_type": "markdown",
   "metadata": {},
   "source": [
    "# Model building"
   ]
  },
  {
   "cell_type": "markdown",
   "metadata": {},
   "source": [
    "As stated before, you can do this part without completing the previous one"
   ]
  },
  {
   "cell_type": "markdown",
   "metadata": {},
   "source": [
    "6.1. Load the cleaned dataset `Assignment_2_data_cleaned.csv` into `df_clean` and print its shape.    "
   ]
  },
  {
   "cell_type": "code",
   "execution_count": 186,
   "metadata": {},
   "outputs": [],
   "source": [
    "df_clean = pd.read_csv(\"Assignment_2_data_cleaned.csv\")"
   ]
  },
  {
   "cell_type": "markdown",
   "metadata": {},
   "source": [
    "6.2. Load the target variable `Overall` into a dataframe and name it `y`. Then, load the features into a second dataframe and name it `X`. Plot a histogram of `y`, choose the number of bins as 100."
   ]
  },
  {
   "cell_type": "code",
   "execution_count": 193,
   "metadata": {},
   "outputs": [
    {
     "data": {
      "image/png": "[encoded data removed]",
      "text/plain": [
       "<Figure size 432x288 with 1 Axes>"
      ]
     },
     "metadata": {
      "needs_background": "light"
     },
     "output_type": "display_data"
    }
   ],
   "source": [
    "y = df_clean[\"Overall\"]\n",
    "x = df_clean.drop(\"Overall\", axis=\"columns\")\n",
    "\n",
    "plt.hist(y, bins=100)\n",
    "plt.show()"
   ]
  },
  {
   "cell_type": "markdown",
   "metadata": {},
   "source": [
    "7. Split the data set into a training set and a test set. Choose `test_size` = 0.3 and `random_state` = 123  \n",
    "Print train and test size      \n",
    "**Attention**: You are asked to use  [`sklearn.model_selection`](https://scikit-learn.org/stable/modules/generated/sklearn.model_selection.train_test_split.html)"
   ]
  },
  {
   "cell_type": "code",
   "execution_count": 194,
   "metadata": {},
   "outputs": [
    {
     "name": "stdout",
     "output_type": "stream",
     "text": [
      "10320\n",
      "4423\n"
     ]
    }
   ],
   "source": [
    "from sklearn.model_selection import train_test_split\n",
    "def split(x, y, test_size = 0.3, random_state=123):    \n",
    "    x_train, x_test, y_train, y_test = train_test_split(x, y, test_size=test_size, random_state=random_state)\n",
    "    return x_train, x_test, y_train, y_test\n",
    "\n",
    "x_train, x_test, y_train, y_test = split(x, y)\n",
    "print(\"x: train and test\")\n",
    "print(len(x_train))\n",
    "print(len(x_test))\n",
    "print(\"y: train and test\")\n",
    "print(len(y_train))\n",
    "print(len(y_test))"
   ]
  },
  {
   "cell_type": "markdown",
   "metadata": {},
   "source": [
    "8. Fit a linear model to the training set, and then report the training and testing errors obtained (the R2 statistic).   \n",
    "Calculate and print the following metrics: mse, rmse, mae for the test_set"
   ]
  },
  {
   "cell_type": "code",
   "execution_count": 195,
   "metadata": {},
   "outputs": [
    {
     "name": "stdout",
     "output_type": "stream",
     "text": [
      "Train score:  0.9370091958866428\n",
      "Test score:  0.9357188804625101\n"
     ]
    }
   ],
   "source": [
    "from sklearn.linear_model import LinearRegression\n",
    "from sklearn.metrics import r2_score, mean_squared_error, mean_absolute_error\n",
    "\n",
    "reg = LinearRegression()\n",
    "reg.fit(x_train, y_train)\n",
    "train_score = reg.score(x_train, y_train)\n",
    "test_score = reg.score(x_test, y_test)\n",
    "print(\"Train score: \" , train_score)\n",
    "print(\"Test score: \", test_score)"
   ]
  },
  {
   "cell_type": "code",
   "execution_count": 196,
   "metadata": {},
   "outputs": [
    {
     "name": "stdout",
     "output_type": "stream",
     "text": [
      "mse = 3.0074136038083257, rmse = 1.7341896101085157 mae = 1.356192613160754 r2 = 0.9357188804625101\n"
     ]
    }
   ],
   "source": [
    "import math\n",
    "\n",
    "y_pred = reg.predict(x_test) \n",
    "mse = mean_squared_error(y_test, y_pred)\n",
    "mae = mean_absolute_error(y_test, y_pred)\n",
    "r2 = r2_score(y_test, y_pred)\n",
    "print(\"mse = {}, rmse = {} mae = {} r2 = {}\".format(mse, math.sqrt(mse), mae, r2))"
   ]
  },
  {
   "cell_type": "markdown",
   "metadata": {},
   "source": [
    "### Check residuals"
   ]
  },
  {
   "cell_type": "markdown",
   "metadata": {},
   "source": [
    "9.1. Plot a histogram of the residuals (difference between `y_test` and `y_pred`"
   ]
  },
  {
   "cell_type": "code",
   "execution_count": 197,
   "metadata": {},
   "outputs": [
    {
     "data": {
      "text/plain": [
       "<AxesSubplot:>"
      ]
     },
     "execution_count": 197,
     "metadata": {},
     "output_type": "execute_result"
    },
    {
     "data": {
      "image/png": "[encoded data removed]",
      "text/plain": [
       "<Figure size 432x288 with 1 Axes>"
      ]
     },
     "metadata": {
      "needs_background": "light"
     },
     "output_type": "display_data"
    }
   ],
   "source": [
    "resids = y_test - y_pred\n",
    "resids.hist(bins=100)"
   ]
  },
  {
   "cell_type": "markdown",
   "metadata": {},
   "source": [
    "9.2. Plot a scatter plot where `y_test` is in the **x** axis and  `y_pred` is in the **y** axis"
   ]
  },
  {
   "cell_type": "code",
   "execution_count": 198,
   "metadata": {},
   "outputs": [
    {
     "data": {
      "text/plain": [
       "<matplotlib.collections.PathCollection at 0x12ac9e700>"
      ]
     },
     "execution_count": 198,
     "metadata": {},
     "output_type": "execute_result"
    },
    {
     "data": {
      "image/png": "[encoded data removed]",
      "text/plain": [
       "<Figure size 432x288 with 1 Axes>"
      ]
     },
     "metadata": {
      "needs_background": "light"
     },
     "output_type": "display_data"
    }
   ],
   "source": [
    "plt.scatter(y_test, y_pred)"
   ]
  },
  {
   "cell_type": "markdown",
   "metadata": {},
   "source": [
    "10. Try to improve the performance of your model, by adding new features"
   ]
  },
  {
   "cell_type": "code",
   "execution_count": null,
   "metadata": {},
   "outputs": [],
   "source": [
    "# your code here"
   ]
  },
  {
   "cell_type": "code",
   "execution_count": null,
   "metadata": {},
   "outputs": [],
   "source": []
  }
 ],
 "metadata": {
  "anaconda-cloud": {},
  "kernelspec": {
   "display_name": "Python 3",
   "language": "python",
   "name": "python3"
  },
  "language_info": {
   "codemirror_mode": {
    "name": "ipython",
    "version": 3
   },
   "file_extension": ".py",
   "mimetype": "text/x-python",
   "name": "python",
   "nbconvert_exporter": "python",
   "pygments_lexer": "ipython3",
   "version": "3.9.7"
  }
 },
 "nbformat": 4,
 "nbformat_minor": 2
}
